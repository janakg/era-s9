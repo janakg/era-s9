{
 "cells": [
  {
   "attachments": {},
   "cell_type": "markdown",
   "metadata": {
    "colab_type": "text",
    "id": "view-in-github"
   },
   "source": [
    "<a href=\"https://colab.research.google.com/github/janakg/era-s5/blob/main/S5.ipynb\" target=\"_parent\"><img src=\"https://colab.research.google.com/assets/colab-badge.svg\" alt=\"Open In Colab\"/></a>"
   ]
  },
  {
   "cell_type": "code",
   "execution_count": 1,
   "metadata": {
    "id": "6PlbomWY3RSq"
   },
   "outputs": [],
   "source": [
    "from __future__ import print_function\n",
    "import torch\n",
    "import torch.nn as nn\n",
    "import torch.nn.functional as F\n",
    "import torch.optim as optim\n",
    "from torchvision import datasets, transforms\n",
    "import os\n",
    "os.environ['KMP_DUPLICATE_LIB_OK']='True' "
   ]
  },
  {
   "cell_type": "code",
   "execution_count": 2,
   "metadata": {},
   "outputs": [],
   "source": [
    "# import os\n",
    "\n",
    "# # Define the repository and the target directory\n",
    "# repo_url = 'https://github.com/janakg/era-s9.git'\n",
    "# target_dir = '/content/era-s9'\n",
    "\n",
    "# # Check if the directory already exists\n",
    "# if not os.path.exists(target_dir):\n",
    "#     # If it doesn't exist, clone the repo\n",
    "#     !git clone {repo_url}\n",
    "# else:\n",
    "#     # If it exists, 'cd' into the directory and pull the latest changes\n",
    "#     %cd {target_dir}\n",
    "#     !git pull\n",
    "\n",
    "# # Add the repository's directory to the system path\n",
    "# import sys\n",
    "# sys.path.append(target_dir)\n",
    "\n",
    "# Import all utils functions\n",
    "from utils import *"
   ]
  },
  {
   "cell_type": "code",
   "execution_count": 3,
   "metadata": {
    "colab": {
     "base_uri": "https://localhost:8080/"
    },
    "id": "94BxVVBP3WwS",
    "outputId": "46605080-bcaa-4042-8b60-2b0aec71a6b4"
   },
   "outputs": [
    {
     "name": "stdout",
     "output_type": "stream",
     "text": [
      "CUDA Available? True\n"
     ]
    }
   ],
   "source": [
    "# CUDA?\n",
    "use_cuda = torch.cuda.is_available()\n",
    "print(\"CUDA Available?\", use_cuda)\n",
    "\n",
    "\n",
    "# For reproducibility. SEED Random functions\n",
    "SEED = 1\n",
    "torch.manual_seed(SEED)\n",
    "if use_cuda:\n",
    "    torch.cuda.manual_seed(SEED)\n",
    "\n",
    "device = torch.device(\"cuda\" if use_cuda else \"cpu\")"
   ]
  },
  {
   "cell_type": "code",
   "execution_count": 4,
   "metadata": {
    "id": "KpshQ2Ug38m2"
   },
   "outputs": [],
   "source": [
    "# Train Phase transformations\n",
    "train_transforms = transforms.Compose([\n",
    "                                      #  transforms.ColorJitter(brightness=0.10, contrast=0.1, saturation=0.10, hue=0.1),\n",
    "                                       transforms.RandomCrop(32, padding=4, padding_mode='reflect'),\n",
    "                                       transforms.RandomHorizontalFlip(),\n",
    "                                       transforms.RandomRotation(15),\n",
    "                                       transforms.ToTensor(),\n",
    "                                       transforms.Normalize((0.4914, 0.4822, 0.4465), (0.2023, 0.1994, 0.2010)) # The mean and std have to be sequences (e.g., tuples), therefore you should add a comma after the values. \n",
    "                                       ])\n",
    "\n",
    "# Test Phase transformations\n",
    "test_transforms = transforms.Compose([\n",
    "                                      #  transforms.ColorJitter(brightness=0.10, contrast=0.1, saturation=0.10, hue=0.1),\n",
    "                                       transforms.ToTensor(),\n",
    "                                       transforms.Normalize((0.4914, 0.4822, 0.4465), (0.2023, 0.1994, 0.2010))\n",
    "                                       ])\n"
   ]
  },
  {
   "cell_type": "code",
   "execution_count": 5,
   "metadata": {
    "colab": {
     "base_uri": "https://localhost:8080/"
    },
    "id": "JB79ZYW13-AO",
    "outputId": "f375e7e7-b967-4ca5-cfad-a816b8f58a8a"
   },
   "outputs": [
    {
     "name": "stdout",
     "output_type": "stream",
     "text": [
      "Files already downloaded and verified\n",
      "Files already downloaded and verified\n"
     ]
    }
   ],
   "source": [
    "train_data = datasets.CIFAR10(root='./data', train=True,\n",
    "                                        download=True, transform=train_transforms)\n",
    "test_data = datasets.CIFAR10(root='./data', train=False,\n",
    "                                       download=True, transform=test_transforms)"
   ]
  },
  {
   "cell_type": "code",
   "execution_count": 6,
   "metadata": {
    "id": "avCKK1uL4A68"
   },
   "outputs": [],
   "source": [
    "# dataloader arguments - something you'll fetch these from cmdprmt\n",
    "dataloader_args = dict(shuffle=True, batch_size=512, num_workers=4, pin_memory=True) if use_cuda else dict(shuffle=True, batch_size=64)\n",
    "\n",
    "# train dataloader\n",
    "train_loader = torch.utils.data.DataLoader(train_data, **dataloader_args)\n",
    "\n",
    "# test dataloader\n",
    "test_loader = torch.utils.data.DataLoader(test_data, **dataloader_args)"
   ]
  },
  {
   "cell_type": "code",
   "execution_count": 7,
   "metadata": {
    "colab": {
     "base_uri": "https://localhost:8080/",
     "height": 463
    },
    "id": "Hx7QkLcw4Epc",
    "outputId": "f300f2b7-1a0a-4a67-d541-fe8b9c525b86"
   },
   "outputs": [
    {
     "name": "stderr",
     "output_type": "stream",
     "text": [
      "Clipping input data to the valid range for imshow with RGB data ([0..1] for floats or [0..255] for integers).\n"
     ]
    },
    {
     "data": {
      "image/png": "[encoded data removed]",
      "text/plain": [
       "<Figure size 640x480 with 1 Axes>"
      ]
     },
     "metadata": {},
     "output_type": "display_data"
    },
    {
     "name": "stdout",
     "output_type": "stream",
     "text": [
      "ship  bird  cat   dog  \n"
     ]
    }
   ],
   "source": [
    "import matplotlib.pyplot as plt\n",
    "import numpy as np\n",
    "\n",
    "# functions to show an image\n",
    "def imshow(img):\n",
    "    img = img / 2 + 0.5     # unnormalize\n",
    "    npimg = img.numpy()\n",
    "    plt.imshow(np.transpose(npimg, (1, 2, 0)))\n",
    "    plt.show()\n",
    "\n",
    "\n",
    "# get some random training images\n",
    "dataiter = iter(train_loader)\n",
    "images, labels = next(dataiter)\n",
    "classes = ('plane', 'car', 'bird', 'cat',\n",
    "           'deer', 'dog', 'frog', 'horse', 'ship', 'truck')\n",
    "\n",
    "import torchvision\n",
    "# show images\n",
    "imshow(torchvision.utils.make_grid(images[:4]))\n",
    "# print labels\n",
    "print(' '.join(f'{classes[labels[j]]:5s}' for j in range(4)))\n",
    "\n",
    "# # Call the util function to show a batch of images\n",
    "# import matplotlib.pyplot as plt\n",
    "# fig = plt.figure()\n",
    "# show_batch_images(plt, train_loader, 12, 3, 4)"
   ]
  },
  {
   "cell_type": "code",
   "execution_count": 8,
   "metadata": {
    "id": "UHBolvMH4F8y"
   },
   "outputs": [],
   "source": [
    "# model imported from a module\n",
    "from model import Net"
   ]
  },
  {
   "cell_type": "code",
   "execution_count": 9,
   "metadata": {},
   "outputs": [
    {
     "name": "stdout",
     "output_type": "stream",
     "text": [
      "Requirement already satisfied: torchsummary in /opt/conda/lib/python3.10/site-packages (1.5.1)\n",
      "Pre-gap size: torch.Size([2, 32, 32, 32])\n",
      "Post-gap size: torch.Size([2, 32, 1, 1])\n",
      "----------------------------------------------------------------\n",
      "        Layer (type)               Output Shape         Param #\n",
      "================================================================\n",
      "            Conv2d-1           [-1, 32, 32, 32]             864\n",
      "              ReLU-2           [-1, 32, 32, 32]               0\n",
      "       BatchNorm2d-3           [-1, 32, 32, 32]              64\n",
      "            Conv2d-4           [-1, 64, 32, 32]          18,432\n",
      "              ReLU-5           [-1, 64, 32, 32]               0\n",
      "       BatchNorm2d-6           [-1, 64, 32, 32]             128\n",
      "            Conv2d-7           [-1, 32, 32, 32]          18,432\n",
      "              ReLU-8           [-1, 32, 32, 32]               0\n",
      "       BatchNorm2d-9           [-1, 32, 32, 32]              64\n",
      "          Dropout-10           [-1, 32, 32, 32]               0\n",
      "           Conv2d-11           [-1, 32, 32, 32]           9,216\n",
      "             ReLU-12           [-1, 32, 32, 32]               0\n",
      "      BatchNorm2d-13           [-1, 32, 32, 32]              64\n",
      "           Conv2d-14           [-1, 64, 32, 32]          18,432\n",
      "             ReLU-15           [-1, 64, 32, 32]               0\n",
      "      BatchNorm2d-16           [-1, 64, 32, 32]             128\n",
      "           Conv2d-17           [-1, 32, 32, 32]          18,432\n",
      "             ReLU-18           [-1, 32, 32, 32]               0\n",
      "      BatchNorm2d-19           [-1, 32, 32, 32]              64\n",
      "          Dropout-20           [-1, 32, 32, 32]               0\n",
      "           Conv2d-21           [-1, 32, 32, 32]           9,216\n",
      "             ReLU-22           [-1, 32, 32, 32]               0\n",
      "      BatchNorm2d-23           [-1, 32, 32, 32]              64\n",
      "           Conv2d-24           [-1, 64, 32, 32]          18,432\n",
      "             ReLU-25           [-1, 64, 32, 32]               0\n",
      "      BatchNorm2d-26           [-1, 64, 32, 32]             128\n",
      "           Conv2d-27           [-1, 32, 32, 32]          18,432\n",
      "             ReLU-28           [-1, 32, 32, 32]               0\n",
      "      BatchNorm2d-29           [-1, 32, 32, 32]              64\n",
      "          Dropout-30           [-1, 32, 32, 32]               0\n",
      "           Conv2d-31           [-1, 32, 32, 32]           9,216\n",
      "             ReLU-32           [-1, 32, 32, 32]               0\n",
      "      BatchNorm2d-33           [-1, 32, 32, 32]              64\n",
      "           Conv2d-34           [-1, 64, 32, 32]          18,432\n",
      "             ReLU-35           [-1, 64, 32, 32]               0\n",
      "      BatchNorm2d-36           [-1, 64, 32, 32]             128\n",
      "           Conv2d-37           [-1, 32, 32, 32]          18,432\n",
      "             ReLU-38           [-1, 32, 32, 32]               0\n",
      "      BatchNorm2d-39           [-1, 32, 32, 32]              64\n",
      "          Dropout-40           [-1, 32, 32, 32]               0\n",
      "        AvgPool2d-41             [-1, 32, 1, 1]               0\n",
      "           Conv2d-42             [-1, 10, 1, 1]             320\n",
      "================================================================\n",
      "Total params: 177,312\n",
      "Trainable params: 177,312\n",
      "Non-trainable params: 0\n",
      "----------------------------------------------------------------\n",
      "Input size (MB): 0.01\n",
      "Forward/backward pass size (MB): 13.00\n",
      "Params size (MB): 0.68\n",
      "Estimated Total Size (MB): 13.69\n",
      "----------------------------------------------------------------\n"
     ]
    }
   ],
   "source": [
    "!pip install torchsummary\n",
    "from torchsummary import summary\n",
    "model = Net().to(device)\n",
    "summary(model, input_size=(3, 32, 32))"
   ]
  },
  {
   "cell_type": "code",
   "execution_count": 10,
   "metadata": {
    "id": "7du4zM474LvT"
   },
   "outputs": [],
   "source": [
    "# Data to plot accuracy and loss graphs\n",
    "train_losses = []\n",
    "test_losses = []\n",
    "train_acc = []\n",
    "test_acc = []\n",
    "\n",
    "test_incorrect_pred = {'images': [], 'ground_truths': [], 'predicted_vals': []}"
   ]
  },
  {
   "cell_type": "code",
   "execution_count": 11,
   "metadata": {
    "colab": {
     "base_uri": "https://localhost:8080/"
    },
    "id": "Owqiet9M4TV7",
    "outputId": "f5c847c7-642b-4773-becf-70168897809e"
   },
   "outputs": [
    {
     "name": "stdout",
     "output_type": "stream",
     "text": [
      "Epoch 1\n"
     ]
    },
    {
     "name": "stderr",
     "output_type": "stream",
     "text": [
      "  0%|          | 0/98 [00:00<?, ?it/s]"
     ]
    },
    {
     "name": "stdout",
     "output_type": "stream",
     "text": [
      "Pre-gap size: torch.Size([512, 32, 32, 32])\n",
      "Post-gap size: torch.Size([512, 32, 1, 1])\n"
     ]
    },
    {
     "name": "stderr",
     "output_type": "stream",
     "text": [
      "Train: Loss=2.3104 Batch_id=0 Accuracy=7.42:   1%|          | 1/98 [00:01<01:44,  1.08s/it]"
     ]
    },
    {
     "name": "stdout",
     "output_type": "stream",
     "text": [
      "Pre-gap size: torch.Size([512, 32, 32, 32])\n",
      "Post-gap size: torch.Size([512, 32, 1, 1])\n"
     ]
    },
    {
     "name": "stderr",
     "output_type": "stream",
     "text": [
      "Train: Loss=2.3030 Batch_id=2 Accuracy=8.59:   3%|▎         | 3/98 [00:01<00:38,  2.48it/s]"
     ]
    },
    {
     "name": "stdout",
     "output_type": "stream",
     "text": [
      "Pre-gap size: torch.Size([512, 32, 32, 32])\n",
      "Post-gap size: torch.Size([512, 32, 1, 1])\n"
     ]
    },
    {
     "name": "stderr",
     "output_type": "stream",
     "text": [
      "Train: Loss=2.2924 Batch_id=3 Accuracy=9.57:   4%|▍         | 4/98 [00:01<00:30,  3.07it/s]"
     ]
    },
    {
     "name": "stdout",
     "output_type": "stream",
     "text": [
      "Pre-gap size: torch.Size([512, 32, 32, 32])\n",
      "Post-gap size: torch.Size([512, 32, 1, 1])\n"
     ]
    },
    {
     "name": "stderr",
     "output_type": "stream",
     "text": [
      "Train: Loss=2.2885 Batch_id=4 Accuracy=9.80:   5%|▌         | 5/98 [00:01<00:26,  3.53it/s]"
     ]
    },
    {
     "name": "stdout",
     "output_type": "stream",
     "text": [
      "Pre-gap size: torch.Size([512, 32, 32, 32])\n",
      "Post-gap size: torch.Size([512, 32, 1, 1])\n",
      "Pre-gap size: torch.Size([512, 32, 32, 32])\n",
      "Post-gap size: torch.Size([512, 32, 1, 1])\n"
     ]
    },
    {
     "name": "stderr",
     "output_type": "stream",
     "text": [
      "Train: Loss=2.2631 Batch_id=6 Accuracy=11.50:   7%|▋         | 7/98 [00:02<00:22,  4.13it/s]"
     ]
    },
    {
     "name": "stdout",
     "output_type": "stream",
     "text": [
      "Pre-gap size: torch.Size([512, 32, 32, 32])\n",
      "Post-gap size: torch.Size([512, 32, 1, 1])\n"
     ]
    },
    {
     "name": "stderr",
     "output_type": "stream",
     "text": [
      "Train: Loss=2.2416 Batch_id=7 Accuracy=12.26:   8%|▊         | 8/98 [00:02<00:20,  4.34it/s]"
     ]
    },
    {
     "name": "stdout",
     "output_type": "stream",
     "text": [
      "Pre-gap size: torch.Size([512, 32, 32, 32])\n",
      "Post-gap size: torch.Size([512, 32, 1, 1])\n"
     ]
    },
    {
     "name": "stderr",
     "output_type": "stream",
     "text": [
      "Train: Loss=2.2314 Batch_id=8 Accuracy=13.15:   9%|▉         | 9/98 [00:02<00:19,  4.49it/s]"
     ]
    },
    {
     "name": "stdout",
     "output_type": "stream",
     "text": [
      "Pre-gap size: torch.Size([512, 32, 32, 32])\n",
      "Post-gap size: torch.Size([512, 32, 1, 1])\n"
     ]
    },
    {
     "name": "stderr",
     "output_type": "stream",
     "text": [
      "Train: Loss=2.2092 Batch_id=9 Accuracy=14.04:  10%|█         | 10/98 [00:02<00:19,  4.60it/s]"
     ]
    },
    {
     "name": "stdout",
     "output_type": "stream",
     "text": [
      "Pre-gap size: torch.Size([512, 32, 32, 32])\n",
      "Post-gap size: torch.Size([512, 32, 1, 1])\n"
     ]
    },
    {
     "name": "stderr",
     "output_type": "stream",
     "text": [
      "Train: Loss=2.1890 Batch_id=10 Accuracy=14.68:  11%|█         | 11/98 [00:03<00:18,  4.64it/s]"
     ]
    },
    {
     "name": "stdout",
     "output_type": "stream",
     "text": [
      "Pre-gap size: torch.Size([512, 32, 32, 32])\n",
      "Post-gap size: torch.Size([512, 32, 1, 1])\n"
     ]
    },
    {
     "name": "stderr",
     "output_type": "stream",
     "text": [
      "Train: Loss=2.1655 Batch_id=11 Accuracy=15.40:  12%|█▏        | 12/98 [00:03<00:18,  4.69it/s]"
     ]
    },
    {
     "name": "stdout",
     "output_type": "stream",
     "text": [
      "Pre-gap size: torch.Size([512, 32, 32, 32])\n",
      "Post-gap size: torch.Size([512, 32, 1, 1])\n"
     ]
    },
    {
     "name": "stderr",
     "output_type": "stream",
     "text": [
      "Train: Loss=2.1882 Batch_id=12 Accuracy=15.56:  13%|█▎        | 13/98 [00:03<00:17,  4.74it/s]"
     ]
    },
    {
     "name": "stdout",
     "output_type": "stream",
     "text": [
      "Pre-gap size: torch.Size([512, 32, 32, 32])\n",
      "Post-gap size: torch.Size([512, 32, 1, 1])\n"
     ]
    },
    {
     "name": "stderr",
     "output_type": "stream",
     "text": [
      "Train: Loss=2.1484 Batch_id=13 Accuracy=15.88:  14%|█▍        | 14/98 [00:03<00:17,  4.77it/s]"
     ]
    },
    {
     "name": "stdout",
     "output_type": "stream",
     "text": [
      "Pre-gap size: torch.Size([512, 32, 32, 32])\n",
      "Post-gap size: torch.Size([512, 32, 1, 1])\n"
     ]
    },
    {
     "name": "stderr",
     "output_type": "stream",
     "text": [
      "Train: Loss=2.1130 Batch_id=14 Accuracy=16.35:  15%|█▌        | 15/98 [00:03<00:17,  4.79it/s]"
     ]
    },
    {
     "name": "stdout",
     "output_type": "stream",
     "text": [
      "Pre-gap size: torch.Size([512, 32, 32, 32])\n",
      "Post-gap size: torch.Size([512, 32, 1, 1])\n"
     ]
    },
    {
     "name": "stderr",
     "output_type": "stream",
     "text": [
      "Train: Loss=2.1014 Batch_id=15 Accuracy=16.75:  16%|█▋        | 16/98 [00:04<00:17,  4.80it/s]"
     ]
    },
    {
     "name": "stdout",
     "output_type": "stream",
     "text": [
      "Pre-gap size: torch.Size([512, 32, 32, 32])\n",
      "Post-gap size: torch.Size([512, 32, 1, 1])\n"
     ]
    },
    {
     "name": "stderr",
     "output_type": "stream",
     "text": [
      "Train: Loss=2.1042 Batch_id=16 Accuracy=17.11:  17%|█▋        | 17/98 [00:04<00:16,  4.82it/s]"
     ]
    },
    {
     "name": "stdout",
     "output_type": "stream",
     "text": [
      "Pre-gap size: torch.Size([512, 32, 32, 32])\n",
      "Post-gap size: torch.Size([512, 32, 1, 1])\n"
     ]
    },
    {
     "name": "stderr",
     "output_type": "stream",
     "text": [
      "Train: Loss=2.0399 Batch_id=17 Accuracy=17.64:  18%|█▊        | 18/98 [00:04<00:16,  4.83it/s]"
     ]
    },
    {
     "name": "stdout",
     "output_type": "stream",
     "text": [
      "Pre-gap size: torch.Size([512, 32, 32, 32])\n",
      "Post-gap size: torch.Size([512, 32, 1, 1])\n"
     ]
    },
    {
     "name": "stderr",
     "output_type": "stream",
     "text": [
      "Train: Loss=2.0318 Batch_id=18 Accuracy=18.17:  19%|█▉        | 19/98 [00:04<00:16,  4.84it/s]"
     ]
    },
    {
     "name": "stdout",
     "output_type": "stream",
     "text": [
      "Pre-gap size: torch.Size([512, 32, 32, 32])\n",
      "Post-gap size: torch.Size([512, 32, 1, 1])\n",
      "Pre-gap size: torch.Size([512, 32, 32, 32])\n",
      "Post-gap size: torch.Size([512, 32, 1, 1])\n"
     ]
    },
    {
     "name": "stderr",
     "output_type": "stream",
     "text": [
      "Train: Loss=2.0182 Batch_id=20 Accuracy=18.79:  21%|██▏       | 21/98 [00:05<00:15,  4.85it/s]"
     ]
    },
    {
     "name": "stdout",
     "output_type": "stream",
     "text": [
      "Pre-gap size: torch.Size([512, 32, 32, 32])\n",
      "Post-gap size: torch.Size([512, 32, 1, 1])\n"
     ]
    },
    {
     "name": "stderr",
     "output_type": "stream",
     "text": [
      "Train: Loss=1.9957 Batch_id=21 Accuracy=19.11:  22%|██▏       | 22/98 [00:05<00:15,  4.85it/s]"
     ]
    },
    {
     "name": "stdout",
     "output_type": "stream",
     "text": [
      "Pre-gap size: torch.Size([512, 32, 32, 32])\n",
      "Post-gap size: torch.Size([512, 32, 1, 1])\n"
     ]
    },
    {
     "name": "stderr",
     "output_type": "stream",
     "text": [
      "Train: Loss=2.0017 Batch_id=22 Accuracy=19.29:  23%|██▎       | 23/98 [00:05<00:15,  4.85it/s]"
     ]
    },
    {
     "name": "stdout",
     "output_type": "stream",
     "text": [
      "Pre-gap size: torch.Size([512, 32, 32, 32])\n",
      "Post-gap size: torch.Size([512, 32, 1, 1])\n"
     ]
    },
    {
     "name": "stderr",
     "output_type": "stream",
     "text": [
      "Train: Loss=1.9843 Batch_id=23 Accuracy=19.59:  24%|██▍       | 24/98 [00:05<00:15,  4.86it/s]"
     ]
    },
    {
     "name": "stdout",
     "output_type": "stream",
     "text": [
      "Pre-gap size: torch.Size([512, 32, 32, 32])\n",
      "Post-gap size: torch.Size([512, 32, 1, 1])\n"
     ]
    },
    {
     "name": "stderr",
     "output_type": "stream",
     "text": [
      "Train: Loss=1.9576 Batch_id=24 Accuracy=19.80:  26%|██▌       | 25/98 [00:06<00:15,  4.84it/s]"
     ]
    },
    {
     "name": "stdout",
     "output_type": "stream",
     "text": [
      "Pre-gap size: torch.Size([512, 32, 32, 32])\n",
      "Post-gap size: torch.Size([512, 32, 1, 1])\n"
     ]
    },
    {
     "name": "stderr",
     "output_type": "stream",
     "text": [
      "Train: Loss=1.9996 Batch_id=25 Accuracy=19.91:  27%|██▋       | 26/98 [00:06<00:14,  4.85it/s]"
     ]
    },
    {
     "name": "stdout",
     "output_type": "stream",
     "text": [
      "Pre-gap size: torch.Size([512, 32, 32, 32])\n",
      "Post-gap size: torch.Size([512, 32, 1, 1])\n"
     ]
    },
    {
     "name": "stderr",
     "output_type": "stream",
     "text": [
      "Train: Loss=1.9514 Batch_id=26 Accuracy=20.31:  28%|██▊       | 27/98 [00:06<00:14,  4.85it/s]"
     ]
    },
    {
     "name": "stdout",
     "output_type": "stream",
     "text": [
      "Pre-gap size: torch.Size([512, 32, 32, 32])\n",
      "Post-gap size: torch.Size([512, 32, 1, 1])\n"
     ]
    },
    {
     "name": "stderr",
     "output_type": "stream",
     "text": [
      "Train: Loss=1.9398 Batch_id=27 Accuracy=20.63:  29%|██▊       | 28/98 [00:06<00:14,  4.85it/s]"
     ]
    },
    {
     "name": "stdout",
     "output_type": "stream",
     "text": [
      "Pre-gap size: torch.Size([512, 32, 32, 32])\n",
      "Post-gap size: torch.Size([512, 32, 1, 1])\n"
     ]
    },
    {
     "name": "stderr",
     "output_type": "stream",
     "text": [
      "Train: Loss=1.9458 Batch_id=28 Accuracy=20.91:  30%|██▉       | 29/98 [00:06<00:14,  4.85it/s]"
     ]
    },
    {
     "name": "stdout",
     "output_type": "stream",
     "text": [
      "Pre-gap size: torch.Size([512, 32, 32, 32])\n",
      "Post-gap size: torch.Size([512, 32, 1, 1])\n"
     ]
    },
    {
     "name": "stderr",
     "output_type": "stream",
     "text": [
      "Train: Loss=1.9375 Batch_id=29 Accuracy=21.09:  31%|███       | 30/98 [00:07<00:14,  4.85it/s]"
     ]
    },
    {
     "name": "stdout",
     "output_type": "stream",
     "text": [
      "Pre-gap size: torch.Size([512, 32, 32, 32])\n",
      "Post-gap size: torch.Size([512, 32, 1, 1])\n"
     ]
    },
    {
     "name": "stderr",
     "output_type": "stream",
     "text": [
      "Train: Loss=1.9357 Batch_id=30 Accuracy=21.32:  32%|███▏      | 31/98 [00:07<00:13,  4.85it/s]"
     ]
    },
    {
     "name": "stdout",
     "output_type": "stream",
     "text": [
      "Pre-gap size: torch.Size([512, 32, 32, 32])\n",
      "Post-gap size: torch.Size([512, 32, 1, 1])\n"
     ]
    },
    {
     "name": "stderr",
     "output_type": "stream",
     "text": [
      "Train: Loss=1.9452 Batch_id=31 Accuracy=21.34:  33%|███▎      | 32/98 [00:07<00:13,  4.85it/s]"
     ]
    },
    {
     "name": "stdout",
     "output_type": "stream",
     "text": [
      "Pre-gap size: torch.Size([512, 32, 32, 32])\n",
      "Post-gap size: torch.Size([512, 32, 1, 1])\n"
     ]
    },
    {
     "name": "stderr",
     "output_type": "stream",
     "text": [
      "Train: Loss=1.8904 Batch_id=32 Accuracy=21.56:  34%|███▎      | 33/98 [00:07<00:13,  4.85it/s]"
     ]
    },
    {
     "name": "stdout",
     "output_type": "stream",
     "text": [
      "Pre-gap size: torch.Size([512, 32, 32, 32])\n",
      "Post-gap size: torch.Size([512, 32, 1, 1])\n"
     ]
    },
    {
     "name": "stderr",
     "output_type": "stream",
     "text": [
      "Train: Loss=1.9146 Batch_id=33 Accuracy=21.72:  35%|███▍      | 34/98 [00:07<00:13,  4.85it/s]"
     ]
    },
    {
     "name": "stdout",
     "output_type": "stream",
     "text": [
      "Pre-gap size: torch.Size([512, 32, 32, 32])\n",
      "Post-gap size: torch.Size([512, 32, 1, 1])\n"
     ]
    },
    {
     "name": "stderr",
     "output_type": "stream",
     "text": [
      "Train: Loss=1.8720 Batch_id=34 Accuracy=21.91:  36%|███▌      | 35/98 [00:08<00:13,  4.84it/s]"
     ]
    },
    {
     "name": "stdout",
     "output_type": "stream",
     "text": [
      "Pre-gap size: torch.Size([512, 32, 32, 32])\n",
      "Post-gap size: torch.Size([512, 32, 1, 1])\n"
     ]
    },
    {
     "name": "stderr",
     "output_type": "stream",
     "text": [
      "Train: Loss=1.8530 Batch_id=35 Accuracy=22.18:  37%|███▋      | 36/98 [00:08<00:12,  4.84it/s]"
     ]
    },
    {
     "name": "stdout",
     "output_type": "stream",
     "text": [
      "Pre-gap size: torch.Size([512, 32, 32, 32])\n",
      "Post-gap size: torch.Size([512, 32, 1, 1])\n"
     ]
    },
    {
     "name": "stderr",
     "output_type": "stream",
     "text": [
      "Train: Loss=1.8553 Batch_id=36 Accuracy=22.38:  38%|███▊      | 37/98 [00:08<00:12,  4.84it/s]"
     ]
    },
    {
     "name": "stdout",
     "output_type": "stream",
     "text": [
      "Pre-gap size: torch.Size([512, 32, 32, 32])\n",
      "Post-gap size: torch.Size([512, 32, 1, 1])\n"
     ]
    },
    {
     "name": "stderr",
     "output_type": "stream",
     "text": [
      "Train: Loss=1.8491 Batch_id=37 Accuracy=22.58:  39%|███▉      | 38/98 [00:08<00:12,  4.84it/s]"
     ]
    },
    {
     "name": "stdout",
     "output_type": "stream",
     "text": [
      "Pre-gap size: torch.Size([512, 32, 32, 32])\n",
      "Post-gap size: torch.Size([512, 32, 1, 1])\n"
     ]
    },
    {
     "name": "stderr",
     "output_type": "stream",
     "text": [
      "Train: Loss=1.8593 Batch_id=38 Accuracy=22.77:  40%|███▉      | 39/98 [00:08<00:12,  4.84it/s]"
     ]
    },
    {
     "name": "stdout",
     "output_type": "stream",
     "text": [
      "Pre-gap size: torch.Size([512, 32, 32, 32])\n",
      "Post-gap size: torch.Size([512, 32, 1, 1])\n"
     ]
    },
    {
     "name": "stderr",
     "output_type": "stream",
     "text": [
      "Train: Loss=1.8343 Batch_id=39 Accuracy=22.99:  41%|████      | 40/98 [00:09<00:11,  4.85it/s]"
     ]
    },
    {
     "name": "stdout",
     "output_type": "stream",
     "text": [
      "Pre-gap size: torch.Size([512, 32, 32, 32])\n",
      "Post-gap size: torch.Size([512, 32, 1, 1])\n"
     ]
    },
    {
     "name": "stderr",
     "output_type": "stream",
     "text": [
      "Train: Loss=1.8689 Batch_id=40 Accuracy=23.22:  42%|████▏     | 41/98 [00:09<00:11,  4.85it/s]"
     ]
    },
    {
     "name": "stdout",
     "output_type": "stream",
     "text": [
      "Pre-gap size: torch.Size([512, 32, 32, 32])\n",
      "Post-gap size: torch.Size([512, 32, 1, 1])\n"
     ]
    },
    {
     "name": "stderr",
     "output_type": "stream",
     "text": [
      "Train: Loss=1.8760 Batch_id=41 Accuracy=23.37:  43%|████▎     | 42/98 [00:09<00:11,  4.85it/s]"
     ]
    },
    {
     "name": "stdout",
     "output_type": "stream",
     "text": [
      "Pre-gap size: torch.Size([512, 32, 32, 32])\n",
      "Post-gap size: torch.Size([512, 32, 1, 1])\n"
     ]
    },
    {
     "name": "stderr",
     "output_type": "stream",
     "text": [
      "Train: Loss=1.8401 Batch_id=42 Accuracy=23.58:  44%|████▍     | 43/98 [00:09<00:11,  4.85it/s]"
     ]
    },
    {
     "name": "stdout",
     "output_type": "stream",
     "text": [
      "Pre-gap size: torch.Size([512, 32, 32, 32])\n",
      "Post-gap size: torch.Size([512, 32, 1, 1])\n"
     ]
    },
    {
     "name": "stderr",
     "output_type": "stream",
     "text": [
      "Train: Loss=1.9006 Batch_id=43 Accuracy=23.72:  45%|████▍     | 44/98 [00:09<00:11,  4.85it/s]"
     ]
    },
    {
     "name": "stdout",
     "output_type": "stream",
     "text": [
      "Pre-gap size: torch.Size([512, 32, 32, 32])\n",
      "Post-gap size: torch.Size([512, 32, 1, 1])\n"
     ]
    },
    {
     "name": "stderr",
     "output_type": "stream",
     "text": [
      "Train: Loss=1.8052 Batch_id=44 Accuracy=23.91:  46%|████▌     | 45/98 [00:10<00:10,  4.85it/s]"
     ]
    },
    {
     "name": "stdout",
     "output_type": "stream",
     "text": [
      "Pre-gap size: torch.Size([512, 32, 32, 32])\n",
      "Post-gap size: torch.Size([512, 32, 1, 1])\n"
     ]
    },
    {
     "name": "stderr",
     "output_type": "stream",
     "text": [
      "Train: Loss=1.8328 Batch_id=45 Accuracy=24.04:  47%|████▋     | 46/98 [00:10<00:10,  4.85it/s]"
     ]
    },
    {
     "name": "stdout",
     "output_type": "stream",
     "text": [
      "Pre-gap size: torch.Size([512, 32, 32, 32])\n",
      "Post-gap size: torch.Size([512, 32, 1, 1])\n"
     ]
    },
    {
     "name": "stderr",
     "output_type": "stream",
     "text": [
      "Train: Loss=1.7987 Batch_id=46 Accuracy=24.24:  48%|████▊     | 47/98 [00:10<00:10,  4.83it/s]"
     ]
    },
    {
     "name": "stdout",
     "output_type": "stream",
     "text": [
      "Pre-gap size: torch.Size([512, 32, 32, 32])\n",
      "Post-gap size: torch.Size([512, 32, 1, 1])\n",
      "Pre-gap size: torch.Size([512, 32, 32, 32])\n",
      "Post-gap size: torch.Size([512, 32, 1, 1])\n"
     ]
    },
    {
     "name": "stderr",
     "output_type": "stream",
     "text": [
      "Train: Loss=1.8383 Batch_id=48 Accuracy=24.57:  50%|█████     | 49/98 [00:10<00:10,  4.85it/s]"
     ]
    },
    {
     "name": "stdout",
     "output_type": "stream",
     "text": [
      "Pre-gap size: torch.Size([512, 32, 32, 32])\n",
      "Post-gap size: torch.Size([512, 32, 1, 1])\n"
     ]
    },
    {
     "name": "stderr",
     "output_type": "stream",
     "text": [
      "Train: Loss=1.8340 Batch_id=49 Accuracy=24.68:  51%|█████     | 50/98 [00:11<00:09,  4.85it/s]"
     ]
    },
    {
     "name": "stdout",
     "output_type": "stream",
     "text": [
      "Pre-gap size: torch.Size([512, 32, 32, 32])\n",
      "Post-gap size: torch.Size([512, 32, 1, 1])\n"
     ]
    },
    {
     "name": "stderr",
     "output_type": "stream",
     "text": [
      "Train: Loss=1.7722 Batch_id=50 Accuracy=24.87:  52%|█████▏    | 51/98 [00:11<00:09,  4.85it/s]"
     ]
    },
    {
     "name": "stdout",
     "output_type": "stream",
     "text": [
      "Pre-gap size: torch.Size([512, 32, 32, 32])\n",
      "Post-gap size: torch.Size([512, 32, 1, 1])\n"
     ]
    },
    {
     "name": "stderr",
     "output_type": "stream",
     "text": [
      "Train: Loss=1.7893 Batch_id=51 Accuracy=24.99:  53%|█████▎    | 52/98 [00:11<00:09,  4.85it/s]"
     ]
    },
    {
     "name": "stdout",
     "output_type": "stream",
     "text": [
      "Pre-gap size: torch.Size([512, 32, 32, 32])\n",
      "Post-gap size: torch.Size([512, 32, 1, 1])\n"
     ]
    },
    {
     "name": "stderr",
     "output_type": "stream",
     "text": [
      "Train: Loss=1.8140 Batch_id=52 Accuracy=25.11:  54%|█████▍    | 53/98 [00:11<00:09,  4.83it/s]"
     ]
    },
    {
     "name": "stdout",
     "output_type": "stream",
     "text": [
      "Pre-gap size: torch.Size([512, 32, 32, 32])\n",
      "Post-gap size: torch.Size([512, 32, 1, 1])\n"
     ]
    },
    {
     "name": "stderr",
     "output_type": "stream",
     "text": [
      "Train: Loss=1.7955 Batch_id=53 Accuracy=25.31:  55%|█████▌    | 54/98 [00:12<00:09,  4.84it/s]"
     ]
    },
    {
     "name": "stdout",
     "output_type": "stream",
     "text": [
      "Pre-gap size: torch.Size([512, 32, 32, 32])\n",
      "Post-gap size: torch.Size([512, 32, 1, 1])\n"
     ]
    },
    {
     "name": "stderr",
     "output_type": "stream",
     "text": [
      "Train: Loss=1.8006 Batch_id=54 Accuracy=25.46:  56%|█████▌    | 55/98 [00:12<00:08,  4.84it/s]"
     ]
    },
    {
     "name": "stdout",
     "output_type": "stream",
     "text": [
      "Pre-gap size: torch.Size([512, 32, 32, 32])\n",
      "Post-gap size: torch.Size([512, 32, 1, 1])\n"
     ]
    },
    {
     "name": "stderr",
     "output_type": "stream",
     "text": [
      "Train: Loss=1.7984 Batch_id=55 Accuracy=25.55:  57%|█████▋    | 56/98 [00:12<00:08,  4.85it/s]"
     ]
    },
    {
     "name": "stdout",
     "output_type": "stream",
     "text": [
      "Pre-gap size: torch.Size([512, 32, 32, 32])\n",
      "Post-gap size: torch.Size([512, 32, 1, 1])\n"
     ]
    },
    {
     "name": "stderr",
     "output_type": "stream",
     "text": [
      "Train: Loss=1.7548 Batch_id=56 Accuracy=25.72:  58%|█████▊    | 57/98 [00:12<00:08,  4.85it/s]"
     ]
    },
    {
     "name": "stdout",
     "output_type": "stream",
     "text": [
      "Pre-gap size: torch.Size([512, 32, 32, 32])\n",
      "Post-gap size: torch.Size([512, 32, 1, 1])\n"
     ]
    },
    {
     "name": "stderr",
     "output_type": "stream",
     "text": [
      "Train: Loss=1.7736 Batch_id=57 Accuracy=25.83:  59%|█████▉    | 58/98 [00:12<00:08,  4.83it/s]"
     ]
    },
    {
     "name": "stdout",
     "output_type": "stream",
     "text": [
      "Pre-gap size: torch.Size([512, 32, 32, 32])\n",
      "Post-gap size: torch.Size([512, 32, 1, 1])\n"
     ]
    },
    {
     "name": "stderr",
     "output_type": "stream",
     "text": [
      "Train: Loss=1.7716 Batch_id=58 Accuracy=26.00:  60%|██████    | 59/98 [00:13<00:08,  4.84it/s]"
     ]
    },
    {
     "name": "stdout",
     "output_type": "stream",
     "text": [
      "Pre-gap size: torch.Size([512, 32, 32, 32])\n",
      "Post-gap size: torch.Size([512, 32, 1, 1])\n"
     ]
    },
    {
     "name": "stderr",
     "output_type": "stream",
     "text": [
      "Train: Loss=1.7480 Batch_id=59 Accuracy=26.16:  61%|██████    | 60/98 [00:13<00:07,  4.84it/s]"
     ]
    },
    {
     "name": "stdout",
     "output_type": "stream",
     "text": [
      "Pre-gap size: torch.Size([512, 32, 32, 32])\n",
      "Post-gap size: torch.Size([512, 32, 1, 1])\n"
     ]
    },
    {
     "name": "stderr",
     "output_type": "stream",
     "text": [
      "Train: Loss=1.7265 Batch_id=60 Accuracy=26.34:  62%|██████▏   | 61/98 [00:13<00:07,  4.85it/s]"
     ]
    },
    {
     "name": "stdout",
     "output_type": "stream",
     "text": [
      "Pre-gap size: torch.Size([512, 32, 32, 32])\n",
      "Post-gap size: torch.Size([512, 32, 1, 1])\n"
     ]
    },
    {
     "name": "stderr",
     "output_type": "stream",
     "text": [
      "Train: Loss=1.7948 Batch_id=61 Accuracy=26.45:  63%|██████▎   | 62/98 [00:13<00:07,  4.85it/s]"
     ]
    },
    {
     "name": "stdout",
     "output_type": "stream",
     "text": [
      "Pre-gap size: torch.Size([512, 32, 32, 32])\n",
      "Post-gap size: torch.Size([512, 32, 1, 1])\n"
     ]
    },
    {
     "name": "stderr",
     "output_type": "stream",
     "text": [
      "Train: Loss=1.7353 Batch_id=62 Accuracy=26.59:  64%|██████▍   | 63/98 [00:13<00:07,  4.85it/s]"
     ]
    },
    {
     "name": "stdout",
     "output_type": "stream",
     "text": [
      "Pre-gap size: torch.Size([512, 32, 32, 32])\n",
      "Post-gap size: torch.Size([512, 32, 1, 1])\n"
     ]
    },
    {
     "name": "stderr",
     "output_type": "stream",
     "text": [
      "Train: Loss=1.6883 Batch_id=63 Accuracy=26.78:  65%|██████▌   | 64/98 [00:14<00:07,  4.86it/s]"
     ]
    },
    {
     "name": "stdout",
     "output_type": "stream",
     "text": [
      "Pre-gap size: torch.Size([512, 32, 32, 32])\n",
      "Post-gap size: torch.Size([512, 32, 1, 1])\n"
     ]
    },
    {
     "name": "stderr",
     "output_type": "stream",
     "text": [
      "Train: Loss=1.6900 Batch_id=64 Accuracy=26.94:  66%|██████▋   | 65/98 [00:14<00:06,  4.86it/s]"
     ]
    },
    {
     "name": "stdout",
     "output_type": "stream",
     "text": [
      "Pre-gap size: torch.Size([512, 32, 32, 32])\n",
      "Post-gap size: torch.Size([512, 32, 1, 1])\n"
     ]
    },
    {
     "name": "stderr",
     "output_type": "stream",
     "text": [
      "Train: Loss=1.7305 Batch_id=65 Accuracy=27.02:  67%|██████▋   | 66/98 [00:14<00:06,  4.86it/s]"
     ]
    },
    {
     "name": "stdout",
     "output_type": "stream",
     "text": [
      "Pre-gap size: torch.Size([512, 32, 32, 32])\n",
      "Post-gap size: torch.Size([512, 32, 1, 1])\n"
     ]
    },
    {
     "name": "stderr",
     "output_type": "stream",
     "text": [
      "Train: Loss=1.7289 Batch_id=66 Accuracy=27.10:  68%|██████▊   | 67/98 [00:14<00:06,  4.85it/s]"
     ]
    },
    {
     "name": "stdout",
     "output_type": "stream",
     "text": [
      "Pre-gap size: torch.Size([512, 32, 32, 32])\n",
      "Post-gap size: torch.Size([512, 32, 1, 1])\n"
     ]
    },
    {
     "name": "stderr",
     "output_type": "stream",
     "text": [
      "Train: Loss=1.7273 Batch_id=67 Accuracy=27.19:  69%|██████▉   | 68/98 [00:14<00:06,  4.84it/s]"
     ]
    },
    {
     "name": "stdout",
     "output_type": "stream",
     "text": [
      "Pre-gap size: torch.Size([512, 32, 32, 32])\n",
      "Post-gap size: torch.Size([512, 32, 1, 1])\n"
     ]
    },
    {
     "name": "stderr",
     "output_type": "stream",
     "text": [
      "Train: Loss=1.7502 Batch_id=68 Accuracy=27.30:  70%|███████   | 69/98 [00:15<00:05,  4.84it/s]"
     ]
    },
    {
     "name": "stdout",
     "output_type": "stream",
     "text": [
      "Pre-gap size: torch.Size([512, 32, 32, 32])\n",
      "Post-gap size: torch.Size([512, 32, 1, 1])\n"
     ]
    },
    {
     "name": "stderr",
     "output_type": "stream",
     "text": [
      "Train: Loss=1.7361 Batch_id=69 Accuracy=27.42:  71%|███████▏  | 70/98 [00:15<00:05,  4.79it/s]"
     ]
    },
    {
     "name": "stdout",
     "output_type": "stream",
     "text": [
      "Pre-gap size: torch.Size([512, 32, 32, 32])\n",
      "Post-gap size: torch.Size([512, 32, 1, 1])\n"
     ]
    },
    {
     "name": "stderr",
     "output_type": "stream",
     "text": [
      "Train: Loss=1.7140 Batch_id=70 Accuracy=27.52:  72%|███████▏  | 71/98 [00:15<00:05,  4.81it/s]"
     ]
    },
    {
     "name": "stdout",
     "output_type": "stream",
     "text": [
      "Pre-gap size: torch.Size([512, 32, 32, 32])\n",
      "Post-gap size: torch.Size([512, 32, 1, 1])\n",
      "Pre-gap size: torch.Size([512, 32, 32, 32])\n",
      "Post-gap size: torch.Size([512, 32, 1, 1])\n"
     ]
    },
    {
     "name": "stderr",
     "output_type": "stream",
     "text": [
      "Train: Loss=1.6701 Batch_id=72 Accuracy=27.79:  74%|███████▍  | 73/98 [00:15<00:05,  4.78it/s]"
     ]
    },
    {
     "name": "stdout",
     "output_type": "stream",
     "text": [
      "Pre-gap size: torch.Size([512, 32, 32, 32])\n",
      "Post-gap size: torch.Size([512, 32, 1, 1])\n"
     ]
    },
    {
     "name": "stderr",
     "output_type": "stream",
     "text": [
      "Train: Loss=1.6913 Batch_id=73 Accuracy=27.91:  76%|███████▌  | 74/98 [00:16<00:05,  4.79it/s]"
     ]
    },
    {
     "name": "stdout",
     "output_type": "stream",
     "text": [
      "Pre-gap size: torch.Size([512, 32, 32, 32])\n",
      "Post-gap size: torch.Size([512, 32, 1, 1])\n"
     ]
    },
    {
     "name": "stderr",
     "output_type": "stream",
     "text": [
      "Train: Loss=1.6629 Batch_id=74 Accuracy=28.01:  77%|███████▋  | 75/98 [00:16<00:04,  4.81it/s]"
     ]
    },
    {
     "name": "stdout",
     "output_type": "stream",
     "text": [
      "Pre-gap size: torch.Size([512, 32, 32, 32])\n",
      "Post-gap size: torch.Size([512, 32, 1, 1])\n"
     ]
    },
    {
     "name": "stderr",
     "output_type": "stream",
     "text": [
      "Train: Loss=1.7441 Batch_id=75 Accuracy=28.06:  78%|███████▊  | 76/98 [00:16<00:04,  4.82it/s]"
     ]
    },
    {
     "name": "stdout",
     "output_type": "stream",
     "text": [
      "Pre-gap size: torch.Size([512, 32, 32, 32])\n",
      "Post-gap size: torch.Size([512, 32, 1, 1])\n",
      "Pre-gap size: torch.Size([512, 32, 32, 32])\n",
      "Post-gap size: torch.Size([512, 32, 1, 1])\n"
     ]
    },
    {
     "name": "stderr",
     "output_type": "stream",
     "text": [
      "Train: Loss=1.6460 Batch_id=77 Accuracy=28.27:  80%|███████▉  | 78/98 [00:16<00:04,  4.84it/s]"
     ]
    },
    {
     "name": "stdout",
     "output_type": "stream",
     "text": [
      "Pre-gap size: torch.Size([512, 32, 32, 32])\n",
      "Post-gap size: torch.Size([512, 32, 1, 1])\n"
     ]
    },
    {
     "name": "stderr",
     "output_type": "stream",
     "text": [
      "Train: Loss=1.6691 Batch_id=78 Accuracy=28.37:  81%|████████  | 79/98 [00:17<00:03,  4.84it/s]"
     ]
    },
    {
     "name": "stdout",
     "output_type": "stream",
     "text": [
      "Pre-gap size: torch.Size([512, 32, 32, 32])\n",
      "Post-gap size: torch.Size([512, 32, 1, 1])\n"
     ]
    },
    {
     "name": "stderr",
     "output_type": "stream",
     "text": [
      "Train: Loss=1.6521 Batch_id=79 Accuracy=28.48:  82%|████████▏ | 80/98 [00:17<00:03,  4.84it/s]"
     ]
    },
    {
     "name": "stdout",
     "output_type": "stream",
     "text": [
      "Pre-gap size: torch.Size([512, 32, 32, 32])\n",
      "Post-gap size: torch.Size([512, 32, 1, 1])\n"
     ]
    },
    {
     "name": "stderr",
     "output_type": "stream",
     "text": [
      "Train: Loss=1.6405 Batch_id=80 Accuracy=28.57:  83%|████████▎ | 81/98 [00:17<00:03,  4.85it/s]"
     ]
    },
    {
     "name": "stdout",
     "output_type": "stream",
     "text": [
      "Pre-gap size: torch.Size([512, 32, 32, 32])\n",
      "Post-gap size: torch.Size([512, 32, 1, 1])\n"
     ]
    },
    {
     "name": "stderr",
     "output_type": "stream",
     "text": [
      "Train: Loss=1.6798 Batch_id=81 Accuracy=28.65:  84%|████████▎ | 82/98 [00:17<00:03,  4.85it/s]"
     ]
    },
    {
     "name": "stdout",
     "output_type": "stream",
     "text": [
      "Pre-gap size: torch.Size([512, 32, 32, 32])\n",
      "Post-gap size: torch.Size([512, 32, 1, 1])\n"
     ]
    },
    {
     "name": "stderr",
     "output_type": "stream",
     "text": [
      "Train: Loss=1.6880 Batch_id=82 Accuracy=28.72:  85%|████████▍ | 83/98 [00:18<00:03,  4.86it/s]"
     ]
    },
    {
     "name": "stdout",
     "output_type": "stream",
     "text": [
      "Pre-gap size: torch.Size([512, 32, 32, 32])\n",
      "Post-gap size: torch.Size([512, 32, 1, 1])\n"
     ]
    },
    {
     "name": "stderr",
     "output_type": "stream",
     "text": [
      "Train: Loss=1.6524 Batch_id=83 Accuracy=28.82:  86%|████████▌ | 84/98 [00:18<00:02,  4.86it/s]"
     ]
    },
    {
     "name": "stdout",
     "output_type": "stream",
     "text": [
      "Pre-gap size: torch.Size([512, 32, 32, 32])\n",
      "Post-gap size: torch.Size([512, 32, 1, 1])\n"
     ]
    },
    {
     "name": "stderr",
     "output_type": "stream",
     "text": [
      "Train: Loss=1.6701 Batch_id=84 Accuracy=28.89:  87%|████████▋ | 85/98 [00:18<00:02,  4.85it/s]"
     ]
    },
    {
     "name": "stdout",
     "output_type": "stream",
     "text": [
      "Pre-gap size: torch.Size([512, 32, 32, 32])\n",
      "Post-gap size: torch.Size([512, 32, 1, 1])\n"
     ]
    },
    {
     "name": "stderr",
     "output_type": "stream",
     "text": [
      "Train: Loss=1.6843 Batch_id=85 Accuracy=28.98:  88%|████████▊ | 86/98 [00:18<00:02,  4.85it/s]"
     ]
    },
    {
     "name": "stdout",
     "output_type": "stream",
     "text": [
      "Pre-gap size: torch.Size([512, 32, 32, 32])\n",
      "Post-gap size: torch.Size([512, 32, 1, 1])\n"
     ]
    },
    {
     "name": "stderr",
     "output_type": "stream",
     "text": [
      "Train: Loss=1.6676 Batch_id=86 Accuracy=29.07:  89%|████████▉ | 87/98 [00:18<00:02,  4.85it/s]"
     ]
    },
    {
     "name": "stdout",
     "output_type": "stream",
     "text": [
      "Pre-gap size: torch.Size([512, 32, 32, 32])\n",
      "Post-gap size: torch.Size([512, 32, 1, 1])\n"
     ]
    },
    {
     "name": "stderr",
     "output_type": "stream",
     "text": [
      "Train: Loss=1.6181 Batch_id=87 Accuracy=29.17:  90%|████████▉ | 88/98 [00:19<00:02,  4.85it/s]"
     ]
    },
    {
     "name": "stdout",
     "output_type": "stream",
     "text": [
      "Pre-gap size: torch.Size([512, 32, 32, 32])\n",
      "Post-gap size: torch.Size([512, 32, 1, 1])\n"
     ]
    },
    {
     "name": "stderr",
     "output_type": "stream",
     "text": [
      "Train: Loss=1.6142 Batch_id=88 Accuracy=29.27:  91%|█████████ | 89/98 [00:19<00:01,  4.84it/s]"
     ]
    },
    {
     "name": "stdout",
     "output_type": "stream",
     "text": [
      "Pre-gap size: torch.Size([512, 32, 32, 32])\n",
      "Post-gap size: torch.Size([512, 32, 1, 1])\n"
     ]
    },
    {
     "name": "stderr",
     "output_type": "stream",
     "text": [
      "Train: Loss=1.6244 Batch_id=89 Accuracy=29.36:  92%|█████████▏| 90/98 [00:19<00:01,  4.76it/s]"
     ]
    },
    {
     "name": "stdout",
     "output_type": "stream",
     "text": [
      "Pre-gap size: torch.Size([512, 32, 32, 32])\n",
      "Post-gap size: torch.Size([512, 32, 1, 1])\n"
     ]
    },
    {
     "name": "stderr",
     "output_type": "stream",
     "text": [
      "Train: Loss=1.6593 Batch_id=90 Accuracy=29.46:  93%|█████████▎| 91/98 [00:19<00:01,  4.78it/s]"
     ]
    },
    {
     "name": "stdout",
     "output_type": "stream",
     "text": [
      "Pre-gap size: torch.Size([512, 32, 32, 32])\n",
      "Post-gap size: torch.Size([512, 32, 1, 1])\n"
     ]
    },
    {
     "name": "stderr",
     "output_type": "stream",
     "text": [
      "Train: Loss=1.6838 Batch_id=91 Accuracy=29.56:  94%|█████████▍| 92/98 [00:19<00:01,  4.81it/s]"
     ]
    },
    {
     "name": "stdout",
     "output_type": "stream",
     "text": [
      "Pre-gap size: torch.Size([512, 32, 32, 32])\n",
      "Post-gap size: torch.Size([512, 32, 1, 1])\n"
     ]
    },
    {
     "name": "stderr",
     "output_type": "stream",
     "text": [
      "Train: Loss=1.6159 Batch_id=92 Accuracy=29.70:  95%|█████████▍| 93/98 [00:20<00:01,  4.82it/s]"
     ]
    },
    {
     "name": "stdout",
     "output_type": "stream",
     "text": [
      "Pre-gap size: torch.Size([512, 32, 32, 32])\n",
      "Post-gap size: torch.Size([512, 32, 1, 1])\n"
     ]
    },
    {
     "name": "stderr",
     "output_type": "stream",
     "text": [
      "Train: Loss=1.6380 Batch_id=93 Accuracy=29.79:  96%|█████████▌| 94/98 [00:20<00:00,  4.83it/s]"
     ]
    },
    {
     "name": "stdout",
     "output_type": "stream",
     "text": [
      "Pre-gap size: torch.Size([512, 32, 32, 32])\n",
      "Post-gap size: torch.Size([512, 32, 1, 1])\n"
     ]
    },
    {
     "name": "stderr",
     "output_type": "stream",
     "text": [
      "Train: Loss=1.5757 Batch_id=94 Accuracy=29.89:  97%|█████████▋| 95/98 [00:20<00:00,  4.84it/s]"
     ]
    },
    {
     "name": "stdout",
     "output_type": "stream",
     "text": [
      "Pre-gap size: torch.Size([512, 32, 32, 32])\n",
      "Post-gap size: torch.Size([512, 32, 1, 1])\n"
     ]
    },
    {
     "name": "stderr",
     "output_type": "stream",
     "text": [
      "Train: Loss=1.6379 Batch_id=95 Accuracy=29.97:  98%|█████████▊| 96/98 [00:20<00:00,  4.84it/s]"
     ]
    },
    {
     "name": "stdout",
     "output_type": "stream",
     "text": [
      "Pre-gap size: torch.Size([512, 32, 32, 32])\n",
      "Post-gap size: torch.Size([512, 32, 1, 1])\n"
     ]
    },
    {
     "name": "stderr",
     "output_type": "stream",
     "text": [
      "Train: Loss=1.6230 Batch_id=96 Accuracy=30.06:  99%|█████████▉| 97/98 [00:20<00:00,  4.85it/s]"
     ]
    },
    {
     "name": "stdout",
     "output_type": "stream",
     "text": [
      "Pre-gap size: torch.Size([512, 32, 32, 32])\n",
      "Post-gap size: torch.Size([512, 32, 1, 1])\n"
     ]
    },
    {
     "name": "stderr",
     "output_type": "stream",
     "text": [
      "Train: Loss=1.6570 Batch_id=97 Accuracy=30.14: 100%|██████████| 98/98 [00:21<00:00,  4.64it/s]"
     ]
    },
    {
     "name": "stdout",
     "output_type": "stream",
     "text": [
      "Pre-gap size: torch.Size([336, 32, 32, 32])\n",
      "Post-gap size: torch.Size([336, 32, 1, 1])\n"
     ]
    },
    {
     "name": "stderr",
     "output_type": "stream",
     "text": [
      "\n"
     ]
    },
    {
     "name": "stdout",
     "output_type": "stream",
     "text": [
      "Pre-gap size: torch.Size([512, 32, 32, 32])\n",
      "Post-gap size: torch.Size([512, 32, 1, 1])\n",
      "Pre-gap size: torch.Size([512, 32, 32, 32])\n",
      "Post-gap size: torch.Size([512, 32, 1, 1])\n",
      "Pre-gap size: torch.Size([512, 32, 32, 32])\n",
      "Post-gap size: torch.Size([512, 32, 1, 1])\n",
      "Pre-gap size: torch.Size([512, 32, 32, 32])\n",
      "Post-gap size: torch.Size([512, 32, 1, 1])\n",
      "Pre-gap size: torch.Size([512, 32, 32, 32])\n",
      "Post-gap size: torch.Size([512, 32, 1, 1])\n",
      "Pre-gap size: torch.Size([512, 32, 32, 32])\n",
      "Post-gap size: torch.Size([512, 32, 1, 1])\n",
      "Pre-gap size: torch.Size([512, 32, 32, 32])\n",
      "Post-gap size: torch.Size([512, 32, 1, 1])\n",
      "Pre-gap size: torch.Size([512, 32, 32, 32])\n",
      "Post-gap size: torch.Size([512, 32, 1, 1])\n",
      "Pre-gap size: torch.Size([512, 32, 32, 32])\n",
      "Post-gap size: torch.Size([512, 32, 1, 1])\n",
      "Pre-gap size: torch.Size([512, 32, 32, 32])\n",
      "Post-gap size: torch.Size([512, 32, 1, 1])\n",
      "Pre-gap size: torch.Size([512, 32, 32, 32])\n",
      "Post-gap size: torch.Size([512, 32, 1, 1])\n",
      "Pre-gap size: torch.Size([512, 32, 32, 32])\n",
      "Post-gap size: torch.Size([512, 32, 1, 1])\n",
      "Pre-gap size: torch.Size([512, 32, 32, 32])\n",
      "Post-gap size: torch.Size([512, 32, 1, 1])\n",
      "Pre-gap size: torch.Size([512, 32, 32, 32])\n",
      "Post-gap size: torch.Size([512, 32, 1, 1])\n",
      "Pre-gap size: torch.Size([512, 32, 32, 32])\n",
      "Post-gap size: torch.Size([512, 32, 1, 1])\n",
      "Pre-gap size: torch.Size([512, 32, 32, 32])\n",
      "Post-gap size: torch.Size([512, 32, 1, 1])\n",
      "Pre-gap size: torch.Size([512, 32, 32, 32])\n",
      "Post-gap size: torch.Size([512, 32, 1, 1])\n",
      "Pre-gap size: torch.Size([512, 32, 32, 32])\n",
      "Post-gap size: torch.Size([512, 32, 1, 1])\n",
      "Pre-gap size: torch.Size([512, 32, 32, 32])\n",
      "Post-gap size: torch.Size([512, 32, 1, 1])\n",
      "Pre-gap size: torch.Size([272, 32, 32, 32])\n",
      "Post-gap size: torch.Size([272, 32, 1, 1])\n",
      "Test set: Average loss: 1.6074, Accuracy: 3820/10000 (38.20%)\n",
      "\n"
     ]
    }
   ],
   "source": [
    "model = Net().to(device)\n",
    "optimizer = optim.SGD(model.parameters(), lr=0.01, momentum=0.9)\n",
    "# scheduler = optim.lr_scheduler.StepLR(optimizer, step_size=15, gamma=0.1, verbose=True)\n",
    "\n",
    "criterion = F.nll_loss\n",
    "num_epochs = 1\n",
    "\n",
    "for epoch in range(1, num_epochs+1):\n",
    "  print(f'Epoch {epoch}')\n",
    "  train_succeeded, train_processed, train_loss = train(model, device, train_loader, optimizer, criterion)\n",
    "  train_acc.append(100 * train_succeeded/train_processed)\n",
    "  train_losses.append(train_loss / len(train_loader))\n",
    "\n",
    "  test_succeeded, test_loss = test(model, device, test_loader, criterion)\n",
    "  test_acc.append(100. * test_succeeded / len(test_loader.dataset))\n",
    "  test_losses.append(test_loss)\n",
    "\n",
    "  # scheduler.step()"
   ]
  },
  {
   "cell_type": "code",
   "execution_count": 12,
   "metadata": {
    "colab": {
     "base_uri": "https://localhost:8080/",
     "height": 871
    },
    "id": "Wu0l7dli4eC9",
    "outputId": "cd1fcdab-0c0f-41dc-d1c9-6b80f9eb7915"
   },
   "outputs": [
    {
     "data": {
      "text/plain": [
       "Net(\n",
       "  (convblock1): Sequential(\n",
       "    (0): Conv2d(3, 32, kernel_size=(3, 3), stride=(1, 1), padding=(1, 1), bias=False)\n",
       "    (1): ReLU()\n",
       "    (2): BatchNorm2d(32, eps=1e-05, momentum=0.1, affine=True, track_running_stats=True)\n",
       "    (3): Conv2d(32, 64, kernel_size=(3, 3), stride=(1, 1), padding=(1, 1), bias=False)\n",
       "    (4): ReLU()\n",
       "    (5): BatchNorm2d(64, eps=1e-05, momentum=0.1, affine=True, track_running_stats=True)\n",
       "    (6): Conv2d(64, 32, kernel_size=(3, 3), stride=(1, 1), padding=(2, 2), dilation=(2, 2), bias=False)\n",
       "    (7): ReLU()\n",
       "    (8): BatchNorm2d(32, eps=1e-05, momentum=0.1, affine=True, track_running_stats=True)\n",
       "    (9): Dropout(p=0.1, inplace=False)\n",
       "  )\n",
       "  (convblock2): Sequential(\n",
       "    (0): Conv2d(32, 32, kernel_size=(3, 3), stride=(1, 1), padding=(1, 1), bias=False)\n",
       "    (1): ReLU()\n",
       "    (2): BatchNorm2d(32, eps=1e-05, momentum=0.1, affine=True, track_running_stats=True)\n",
       "    (3): Conv2d(32, 64, kernel_size=(3, 3), stride=(1, 1), padding=(1, 1), bias=False)\n",
       "    (4): ReLU()\n",
       "    (5): BatchNorm2d(64, eps=1e-05, momentum=0.1, affine=True, track_running_stats=True)\n",
       "    (6): Conv2d(64, 32, kernel_size=(3, 3), stride=(1, 1), padding=(2, 2), dilation=(2, 2), bias=False)\n",
       "    (7): ReLU()\n",
       "    (8): BatchNorm2d(32, eps=1e-05, momentum=0.1, affine=True, track_running_stats=True)\n",
       "    (9): Dropout(p=0.1, inplace=False)\n",
       "  )\n",
       "  (convblock3): Sequential(\n",
       "    (0): Conv2d(32, 32, kernel_size=(3, 3), stride=(1, 1), padding=(1, 1), bias=False)\n",
       "    (1): ReLU()\n",
       "    (2): BatchNorm2d(32, eps=1e-05, momentum=0.1, affine=True, track_running_stats=True)\n",
       "    (3): Conv2d(32, 64, kernel_size=(3, 3), stride=(1, 1), padding=(1, 1), bias=False)\n",
       "    (4): ReLU()\n",
       "    (5): BatchNorm2d(64, eps=1e-05, momentum=0.1, affine=True, track_running_stats=True)\n",
       "    (6): Conv2d(64, 32, kernel_size=(3, 3), stride=(1, 1), padding=(2, 2), dilation=(2, 2), bias=False)\n",
       "    (7): ReLU()\n",
       "    (8): BatchNorm2d(32, eps=1e-05, momentum=0.1, affine=True, track_running_stats=True)\n",
       "    (9): Dropout(p=0.1, inplace=False)\n",
       "  )\n",
       "  (convblock4): Sequential(\n",
       "    (0): Conv2d(32, 32, kernel_size=(3, 3), stride=(1, 1), padding=(1, 1), bias=False)\n",
       "    (1): ReLU()\n",
       "    (2): BatchNorm2d(32, eps=1e-05, momentum=0.1, affine=True, track_running_stats=True)\n",
       "    (3): Conv2d(32, 64, kernel_size=(3, 3), stride=(1, 1), padding=(1, 1), bias=False)\n",
       "    (4): ReLU()\n",
       "    (5): BatchNorm2d(64, eps=1e-05, momentum=0.1, affine=True, track_running_stats=True)\n",
       "    (6): Conv2d(64, 32, kernel_size=(3, 3), stride=(1, 1), padding=(2, 2), dilation=(2, 2), bias=False)\n",
       "    (7): ReLU()\n",
       "    (8): BatchNorm2d(32, eps=1e-05, momentum=0.1, affine=True, track_running_stats=True)\n",
       "    (9): Dropout(p=0.1, inplace=False)\n",
       "  )\n",
       "  (dropout): Dropout(p=0.1, inplace=False)\n",
       "  (gap): Sequential(\n",
       "    (0): AvgPool2d(kernel_size=32, stride=32, padding=0)\n",
       "  )\n",
       "  (ant): Sequential(\n",
       "    (0): Conv2d(32, 10, kernel_size=(1, 1), stride=(1, 1), bias=False)\n",
       "  )\n",
       ")"
      ]
     },
     "execution_count": 12,
     "metadata": {},
     "output_type": "execute_result"
    }
   ],
   "source": [
    "model"
   ]
  },
  {
   "cell_type": "code",
   "execution_count": 13,
   "metadata": {
    "id": "C8WZPfXe4iK_"
   },
   "outputs": [
    {
     "name": "stdout",
     "output_type": "stream",
     "text": [
      "Total convolution layers: 13\n",
      "conv_layers\n"
     ]
    }
   ],
   "source": [
    "# we will save the conv layer weights in this list\n",
    "model_weights =[]\n",
    "#we will save the 49 conv layers in this list\n",
    "conv_layers = []\n",
    "# get all the model children as list\n",
    "model_children = list(model.children())\n",
    "#counter to keep count of the conv layers\n",
    "counter = 0\n",
    "#append all the conv layers and their respective wights to the list\n",
    "\n",
    "model_children = model.children()\n",
    "for children in model_children:\n",
    "    if type(children) == nn.Sequential:\n",
    "        for child in children:\n",
    "            if type(child) == nn.Conv2d:\n",
    "                counter += 1\n",
    "                model_weights.append(child.weight)\n",
    "                conv_layers.append(child)\n",
    "\n",
    "print(f\"Total convolution layers: {counter}\")\n",
    "print(\"conv_layers\")"
   ]
  },
  {
   "cell_type": "code",
   "execution_count": 14,
   "metadata": {},
   "outputs": [
    {
     "name": "stderr",
     "output_type": "stream",
     "text": [
      "Clipping input data to the valid range for imshow with RGB data ([0..1] for floats or [0..255] for integers).\n"
     ]
    },
    {
     "data": {
      "image/png": "[encoded data removed]",
      "text/plain": [
       "<Figure size 640x480 with 1 Axes>"
      ]
     },
     "metadata": {},
     "output_type": "display_data"
    }
   ],
   "source": [
    "# get some random training images\n",
    "dataiter = iter(train_loader)\n",
    "images, labels = next(dataiter)\n",
    "imshow(torchvision.utils.make_grid(images[:10]))"
   ]
  },
  {
   "cell_type": "code",
   "execution_count": 15,
   "metadata": {},
   "outputs": [
    {
     "name": "stderr",
     "output_type": "stream",
     "text": [
      "Clipping input data to the valid range for imshow with RGB data ([0..1] for floats or [0..255] for integers).\n"
     ]
    },
    {
     "data": {
      "image/png": "[encoded data removed]",
      "text/plain": [
       "<Figure size 640x480 with 1 Axes>"
      ]
     },
     "metadata": {},
     "output_type": "display_data"
    }
   ],
   "source": [
    "image = images[9]\n",
    "imshow(image)"
   ]
  },
  {
   "cell_type": "code",
   "execution_count": 16,
   "metadata": {},
   "outputs": [],
   "source": [
    "image = image.unsqueeze(0)\n",
    "image = image.to(device)"
   ]
  },
  {
   "cell_type": "code",
   "execution_count": 17,
   "metadata": {},
   "outputs": [
    {
     "name": "stdout",
     "output_type": "stream",
     "text": [
      "13\n",
      "torch.Size([1, 32, 32, 32])\n",
      "torch.Size([1, 64, 32, 32])\n",
      "torch.Size([1, 32, 32, 32])\n",
      "torch.Size([1, 32, 32, 32])\n",
      "torch.Size([1, 64, 32, 32])\n",
      "torch.Size([1, 32, 32, 32])\n",
      "torch.Size([1, 32, 32, 32])\n",
      "torch.Size([1, 64, 32, 32])\n",
      "torch.Size([1, 32, 32, 32])\n",
      "torch.Size([1, 32, 32, 32])\n",
      "torch.Size([1, 64, 32, 32])\n",
      "torch.Size([1, 32, 32, 32])\n",
      "torch.Size([1, 10, 32, 32])\n"
     ]
    }
   ],
   "source": [
    "outputs = []\n",
    "names = []\n",
    "for layer in conv_layers[0:]:\n",
    "    image = layer(image)\n",
    "    outputs.append(image)\n",
    "    names.append(str(layer))\n",
    "print(len(outputs))\n",
    "#print feature_maps\n",
    "for feature_map in outputs:\n",
    "    print(feature_map.shape)"
   ]
  },
  {
   "cell_type": "code",
   "execution_count": 18,
   "metadata": {},
   "outputs": [
    {
     "name": "stdout",
     "output_type": "stream",
     "text": [
      "(32, 32)\n",
      "(32, 32)\n",
      "(32, 32)\n",
      "(32, 32)\n",
      "(32, 32)\n",
      "(32, 32)\n",
      "(32, 32)\n",
      "(32, 32)\n",
      "(32, 32)\n",
      "(32, 32)\n",
      "(32, 32)\n",
      "(32, 32)\n",
      "(32, 32)\n"
     ]
    }
   ],
   "source": [
    "processed = []\n",
    "for feature_map in outputs:\n",
    "    feature_map = feature_map.squeeze(0)\n",
    "    gray_scale = torch.sum(feature_map,0)\n",
    "    # gray_scale = feature_map[0]\n",
    "    gray_scale = gray_scale / feature_map.shape[0]\n",
    "    processed.append(gray_scale.data.cpu().numpy())\n",
    "for fm in processed:\n",
    "    print(fm.shape)"
   ]
  },
  {
   "cell_type": "code",
   "execution_count": 19,
   "metadata": {},
   "outputs": [
    {
     "data": {
      "image/png": "[encoded data removed]",
      "text/plain": [
       "<Figure size 600x1000 with 13 Axes>"
      ]
     },
     "metadata": {},
     "output_type": "display_data"
    }
   ],
   "source": [
    "fig = plt.figure(figsize=(6, 10))\n",
    "for i in range(len(processed)):\n",
    "    a = fig.add_subplot(5, 4, i+1)\n",
    "    imgplot = plt.imshow(processed[i])\n",
    "    a.axis(\"off\")\n",
    "    a.set_title(names[i].split('(')[0], fontsize=10)\n",
    "plt.savefig(str('feature_maps.jpg'), bbox_inches='tight')"
   ]
  },
  {
   "cell_type": "code",
   "execution_count": 20,
   "metadata": {},
   "outputs": [
    {
     "data": {
      "image/png": "[encoded data removed]",
      "text/plain": [
       "<Figure size 500x400 with 32 Axes>"
      ]
     },
     "metadata": {},
     "output_type": "display_data"
    }
   ],
   "source": [
    "# visualize the first conv layer filters\n",
    "plt.figure(figsize=(5, 4))\n",
    "first_layer_weights = model_weights[0].cpu()\n",
    "for i, filter in enumerate(first_layer_weights):\n",
    "    plt.subplot(8, 8, i+1) # (8, 8) because in conv0 we have 7x7 filters and total of 64 (see printed shapes)\n",
    "    plt.imshow(filter[0, :, :].detach(), cmap='gray')\n",
    "    plt.axis('off')\n",
    "plt.show()"
   ]
  }
 ],
 "metadata": {
  "accelerator": "GPU",
  "colab": {
   "gpuType": "T4",
   "include_colab_link": true,
   "provenance": []
  },
  "environment": {
   "kernel": "python3",
   "name": "pytorch-gpu.1-13.m109",
   "type": "gcloud",
   "uri": "gcr.io/deeplearning-platform-release/pytorch-gpu.1-13:m109"
  },
  "gpuClass": "standard",
  "kernelspec": {
   "display_name": "Python 3",
   "language": "python",
   "name": "python3"
  },
  "language_info": {
   "codemirror_mode": {
    "name": "ipython",
    "version": 3
   },
   "file_extension": ".py",
   "mimetype": "text/x-python",
   "name": "python",
   "nbconvert_exporter": "python",
   "pygments_lexer": "ipython3",
   "version": "3.10.11"
  }
 },
 "nbformat": 4,
 "nbformat_minor": 4
}
